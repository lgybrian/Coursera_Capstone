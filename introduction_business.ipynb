{
 "cells": [
  {
   "cell_type": "markdown",
   "metadata": {
    "collapsed": true
   },
   "source": [
    "# Problem"
   ]
  },
  {
   "cell_type": "markdown",
   "metadata": {},
   "source": [
    "Stakeholders have invested in companies in both city, Toronto and Paris. This year, they are interested in investing companies in NYC. However, they do not know which companies in NYC they should invest. If they know whether NYC is closer to Toronto or Paris, they can build different strategies based on their previous experiences. "
   ]
  },
  {
   "cell_type": "markdown",
   "metadata": {},
   "source": [
    "The target audiences will be first, obviously stakeholders. Then, high school or undergraduate students may be interested in this study to decide whether they should study in NYC or not. Lastly, this study will be helpful to people who want to move to NYC."
   ]
  },
  {
   "cell_type": "markdown",
   "metadata": {},
   "source": [
    "To find similarities between NYC and Toronto and NYC and Paris, I will use data from Foursquare and Wikipedia. Based on this data, I will measure the number of offices, their locations, and distances between offices and compare with the other city. These three combined values will allow me to calculate similarity."
   ]
  },
  {
   "cell_type": "code",
   "execution_count": null,
   "metadata": {},
   "outputs": [],
   "source": []
  }
 ],
 "metadata": {
  "kernelspec": {
   "display_name": "Python 3.5",
   "language": "python",
   "name": "python3"
  },
  "language_info": {
   "codemirror_mode": {
    "name": "ipython",
    "version": 3
   },
   "file_extension": ".py",
   "mimetype": "text/x-python",
   "name": "python",
   "nbconvert_exporter": "python",
   "pygments_lexer": "ipython3",
   "version": "3.5.5"
  }
 },
 "nbformat": 4,
 "nbformat_minor": 1
}
